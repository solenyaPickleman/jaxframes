{
 "cells": [
  {
   "cell_type": "markdown",
   "id": "2b8ef1dd",
   "metadata": {},
   "source": "# JaxFrames Test Suite\n\nThis notebook runs the complete test and benchmark suite for JaxFrames, including the new parallel algorithms (Stage 3).\n\n## Quick Start\n\nRun all cells in order to:\n1. Install JaxFrames from GitHub\n2. Set up TPU environment (if applicable)\n3. Run functionality tests\n4. Run performance benchmarks\n5. Execute full test suite\n\n**Note**: This notebook is designed to work on:\n- Local CPU/GPU environments\n- TPU VMs\n- Google Colab with TPU runtime"
  },
  {
   "cell_type": "markdown",
   "id": "yg0p0x5uenm",
   "source": "## Installation",
   "metadata": {}
  },
  {
   "cell_type": "code",
   "id": "r9yi0ka80re",
   "source": "# Install JaxFrames from GitHub\n!pip install --upgrade pip\n!pip install git+https://github.com/solenyaPickleman/jaxframes.git\n\n# Install additional dependencies if needed\n!pip install numpy pandas pytest\n\nprint(\"JaxFrames and dependencies installed!\")",
   "metadata": {},
   "execution_count": null,
   "outputs": []
  },
  {
   "cell_type": "markdown",
   "id": "9j3bfvwbbx4",
   "source": "## Environment Setup",
   "metadata": {}
  },
  {
   "cell_type": "code",
   "execution_count": null,
   "id": "7cc50449",
   "metadata": {},
   "outputs": [],
   "source": [
    "# Setup and imports\n",
    "import sys\n",
    "import os\n",
    "import time\n",
    "import numpy as np\n",
    "import pandas as pd\n",
    "import jax\n",
    "import jax.numpy as jnp\n",
    "from jax.sharding import Mesh\n",
    "\n",
    "# Check JAX devices\n",
    "print(f\"JAX version: {jax.__version__}\")\n",
    "print(f\"Number of devices: {len(jax.devices())}\")\n",
    "print(f\"Device types: {[d.device_kind for d in jax.devices()]}\")\n",
    "print(f\"Device details:\")\n",
    "for i, device in enumerate(jax.devices()):\n",
    "    print(f\"  Device {i}: {device}\")"
   ]
  },
  {
   "cell_type": "code",
   "id": "k6y8hu2dr2e",
   "source": "# TPU-specific setup (if running on TPU VM)\nimport os\n\n# Kill any existing TPU processes if needed (for TPU VMs)\nif 'TPU_NAME' in os.environ:\n    print(\"Running on TPU VM, cleaning up processes...\")\n    !pkill -f libtpu.so || true\n    print(\"TPU cleanup complete\")\n    \n# For Colab TPU runtime\nif 'COLAB_TPU_ADDR' in os.environ:\n    import jax.tools.colab_tpu\n    jax.tools.colab_tpu.setup_tpu()\n    print(\"Colab TPU setup complete\")",
   "metadata": {},
   "execution_count": null,
   "outputs": []
  },
  {
   "cell_type": "code",
   "execution_count": null,
   "id": "2c315271",
   "metadata": {},
   "outputs": [],
   "source": "# Verify JaxFrames installation\ntry:\n    from jaxframes import JaxFrame\n    from jaxframes.distributed import DistributedJaxFrame\n    from jaxframes.distributed.sharding import row_sharded\n    print(\"✓ JaxFrames imported successfully!\")\n    \n    # Check version if available\n    import jaxframes\n    if hasattr(jaxframes, '__version__'):\n        print(f\"  Version: {jaxframes.__version__}\")\n    else:\n        print(\"  Version: development\")\n        \nexcept ImportError as e:\n    print(f\"✗ Failed to import JaxFrames: {e}\")\n    print(\"  Please ensure installation completed successfully\")"
  },
  {
   "cell_type": "markdown",
   "id": "0e0ebe90",
   "metadata": {},
   "source": [
    "## 1. Basic Functionality Tests"
   ]
  },
  {
   "cell_type": "code",
   "execution_count": null,
   "id": "a14fdd52",
   "metadata": {},
   "outputs": [],
   "source": [
    "# Test basic JaxFrame creation and operations\n",
    "print(\"Testing basic JaxFrame functionality...\")\n",
    "\n",
    "# Create a simple DataFrame\n",
    "data = {\n",
    "    'a': jnp.array([1, 2, 3, 4, 5]),\n",
    "    'b': jnp.array([10, 20, 30, 40, 50]),\n",
    "    'c': jnp.array([100.0, 200.0, 300.0, 400.0, 500.0])\n",
    "}\n",
    "\n",
    "df = JaxFrame(data)\n",
    "print(f\"Created JaxFrame: {df}\")\n",
    "print(f\"Shape: {df.shape}\")\n",
    "print(f\"Columns: {df.columns}\")\n",
    "\n",
    "# Test arithmetic operations\n",
    "df2 = df + 10\n",
    "print(f\"\\nAfter adding 10:\")\n",
    "print(df2.to_pandas())\n",
    "\n",
    "# Test reduction operations\n",
    "sums = df.sum()\n",
    "print(f\"\\nColumn sums: {sums}\")\n",
    "\n",
    "means = df.mean()\n",
    "print(f\"Column means: {means}\")"
   ]
  },
  {
   "cell_type": "code",
   "execution_count": null,
   "id": "96fe70cd",
   "metadata": {},
   "outputs": [],
   "source": []
  },
  {
   "cell_type": "markdown",
   "id": "wwmp6curob",
   "metadata": {},
   "source": [
    "## 2. Parallel Algorithms Tests"
   ]
  },
  {
   "cell_type": "code",
   "execution_count": null,
   "id": "2o1li0v0bkp",
   "metadata": {},
   "outputs": [],
   "source": [
    "# Test sorting\n",
    "print(\"Testing sort_values...\")\n",
    "\n",
    "# Create unsorted data\n",
    "np.random.seed(42)\n",
    "sort_data = {\n",
    "    'key': jnp.array(np.random.randint(0, 100, size=20)),\n",
    "    'value': jnp.arange(20)\n",
    "}\n",
    "\n",
    "df_unsorted = JaxFrame(sort_data)\n",
    "print(\"Unsorted DataFrame:\")\n",
    "print(df_unsorted.to_pandas().head(10))\n",
    "\n",
    "# Sort by key\n",
    "df_sorted = df_unsorted.sort_values('key')\n",
    "print(\"\\nSorted by 'key':\")\n",
    "print(df_sorted.to_pandas().head(10))\n",
    "\n",
    "# Verify sorting\n",
    "assert np.all(np.diff(df_sorted.data['key']) >= 0), \"Sorting failed!\"\n",
    "print(\"✓ Sorting verified\")"
   ]
  },
  {
   "cell_type": "code",
   "execution_count": null,
   "id": "dyxk6ffrkhv",
   "metadata": {},
   "outputs": [],
   "source": [
    "# Test groupby aggregations\n",
    "print(\"Testing groupby aggregations...\")\n",
    "\n",
    "# Create data with groups\n",
    "group_data = {\n",
    "    'group': jnp.array([1, 2, 1, 3, 2, 1, 3, 2]),\n",
    "    'value1': jnp.array([10, 20, 30, 40, 50, 60, 70, 80]),\n",
    "    'value2': jnp.array([1.0, 2.0, 3.0, 4.0, 5.0, 6.0, 7.0, 8.0])\n",
    "}\n",
    "\n",
    "df_groups = JaxFrame(group_data)\n",
    "print(\"Original DataFrame:\")\n",
    "print(df_groups.to_pandas())\n",
    "\n",
    "# Test groupby sum\n",
    "grouped_sum = df_groups.groupby('group').sum()\n",
    "print(\"\\nGroupBy Sum:\")\n",
    "print(grouped_sum.to_pandas())\n",
    "\n",
    "# Test groupby mean\n",
    "grouped_mean = df_groups.groupby('group').mean()\n",
    "print(\"\\nGroupBy Mean:\")\n",
    "print(grouped_mean.to_pandas())\n",
    "\n",
    "print(\"✓ GroupBy operations completed\")"
   ]
  },
  {
   "cell_type": "code",
   "execution_count": null,
   "id": "7ndjc2cimqw",
   "metadata": {},
   "outputs": [],
   "source": [
    "# Test merge/join operations\n",
    "print(\"Testing merge operations...\")\n",
    "\n",
    "# Create left DataFrame\n",
    "left_data = {\n",
    "    'key': jnp.array([1, 2, 3, 4]),\n",
    "    'left_value': jnp.array([10, 20, 30, 40])\n",
    "}\n",
    "df_left = JaxFrame(left_data)\n",
    "\n",
    "# Create right DataFrame\n",
    "right_data = {\n",
    "    'key': jnp.array([2, 3, 4, 5]),\n",
    "    'right_value': jnp.array([200, 300, 400, 500])\n",
    "}\n",
    "df_right = JaxFrame(right_data)\n",
    "\n",
    "print(\"Left DataFrame:\")\n",
    "print(df_left.to_pandas())\n",
    "print(\"\\nRight DataFrame:\")\n",
    "print(df_right.to_pandas())\n",
    "\n",
    "# Perform inner join\n",
    "df_merged = df_left.merge(df_right, on='key', how='inner')\n",
    "print(\"\\nMerged (inner join):\")\n",
    "print(df_merged.to_pandas())\n",
    "\n",
    "print(\"✓ Merge operations completed\")"
   ]
  },
  {
   "cell_type": "markdown",
   "id": "nika9g8kqsg",
   "metadata": {},
   "source": [
    "## 3. Performance Benchmarks"
   ]
  },
  {
   "cell_type": "code",
   "execution_count": null,
   "id": "7yb1z4yv82e",
   "metadata": {},
   "outputs": [],
   "source": "# Run performance benchmarks\nprint(\"Running performance benchmarks...\")\nprint(\"=\" * 60)\n\n# Try to run the benchmark script if available\nimport subprocess\nimport os\n\n# Check if we're in the repo or installed via pip\nif os.path.exists(\"benchmarks/benchmark_parallel_algorithms.py\"):\n    # Running from repo\n    result = subprocess.run(\n        [\"python\", \"benchmarks/benchmark_parallel_algorithms.py\"],\n        capture_output=True,\n        text=True\n    )\n    print(result.stdout)\n    if result.stderr:\n        print(\"Benchmark errors:\", result.stderr)\nelse:\n    # Running from pip install - run inline benchmarks\n    print(\"Running inline benchmarks (full benchmark script not available in pip install)\")\n    \n    from jaxframes.distributed.parallel_algorithms import parallel_sort\n    import time\n    \n    # Quick sort benchmark\n    size = 100_000\n    np.random.seed(42)\n    data = jnp.array(np.random.randint(0, size, size=size))\n    \n    # Time the sort\n    start = time.perf_counter()\n    sorted_data = parallel_sort(data)\n    jax_time = time.perf_counter() - start\n    \n    print(f\"\\nSort benchmark ({size:,} elements):\")\n    print(f\"  JAX parallel sort: {jax_time:.4f}s\")\n    print(f\"  Throughput: {size/jax_time/1e6:.2f}M elements/s\")"
  },
  {
   "cell_type": "markdown",
   "id": "jrlsvslnn99",
   "metadata": {},
   "source": [
    "## 4. Run Full Test Suite"
   ]
  },
  {
   "cell_type": "code",
   "execution_count": null,
   "id": "8jmfvvfsjr",
   "metadata": {},
   "outputs": [],
   "source": "# Run pytest tests\nprint(\"Running pytest test suite...\")\nprint(\"=\" * 60)\n\nimport subprocess\nimport os\n\n# Check if tests directory exists\nif os.path.exists(\"tests/\"):\n    # Running from repo\n    result = subprocess.run(\n        [\"python\", \"-m\", \"pytest\", \"tests/\", \"-v\", \"--tb=short\"],\n        capture_output=True,\n        text=True\n    )\n    \n    print(result.stdout)\n    if result.stderr:\n        print(\"Errors:\")\n        print(result.stderr)\n    \n    if result.returncode == 0:\n        print(\"\\n✓ All tests passed!\")\n    else:\n        print(f\"\\n✗ Tests failed with return code {result.returncode}\")\nelse:\n    print(\"Test directory not found (running from pip install)\")\n    print(\"Running basic verification tests...\")\n    \n    # Run some basic tests inline\n    from jaxframes import JaxFrame\n    \n    # Test 1: Basic creation\n    df = JaxFrame({'a': jnp.array([1, 2, 3])})\n    assert df.shape == (3, 1), \"Shape test failed\"\n    print(\"✓ Basic creation test passed\")\n    \n    # Test 2: Sort\n    df2 = JaxFrame({'x': jnp.array([3, 1, 2])})\n    sorted_df = df2.sort_values('x')\n    assert jnp.allclose(sorted_df.data['x'], jnp.array([1, 2, 3])), \"Sort test failed\"\n    print(\"✓ Sort test passed\")\n    \n    # Test 3: GroupBy\n    df3 = JaxFrame({\n        'group': jnp.array([1, 2, 1, 2]),\n        'value': jnp.array([10, 20, 30, 40])\n    })\n    grouped = df3.groupby('group').sum()\n    assert jnp.allclose(grouped.data['value'], jnp.array([40, 60])), \"GroupBy test failed\"\n    print(\"✓ GroupBy test passed\")\n    \n    print(\"\\n✓ Basic verification tests completed!\")"
  },
  {
   "cell_type": "markdown",
   "id": "60tkdovtn8a",
   "metadata": {},
   "source": [
    "## 5. Summary"
   ]
  },
  {
   "cell_type": "code",
   "execution_count": null,
   "id": "it196f1sb2f",
   "metadata": {},
   "outputs": [],
   "source": [
    "print(\"\\n\" + \"=\" * 60)\n",
    "print(\"TEST SUITE COMPLETE\")\n",
    "print(\"=\" * 60)\n",
    "\n",
    "print(f\"\\nEnvironment:\")\n",
    "print(f\"  JAX version: {jax.__version__}\")\n",
    "print(f\"  Devices: {len(jax.devices())} x {jax.devices()[0].device_kind}\")\n",
    "print(f\"  NumPy version: {np.__version__}\")\n",
    "print(f\"  Pandas version: {pd.__version__}\")\n",
    "\n",
    "print(f\"\\nFeatures tested:\")\n",
    "print(f\"  ✓ Basic JaxFrame operations\")\n",
    "print(f\"  ✓ Parallel radix sort\")\n",
    "print(f\"  ✓ Sort-based groupby aggregations\")\n",
    "print(f\"  ✓ Parallel sort-merge joins\")\n",
    "if len(jax.devices()) >= 2:\n",
    "    print(f\"  ✓ Distributed operations across {len(jax.devices())} devices\")\n",
    "else:\n",
    "    print(f\"  ⚠ Distributed operations (single device only)\")\n",
    "\n",
    "print(f\"\\nStage 3 Implementation Status: COMPLETE\")\n",
    "print(f\"\\nNext steps:\")\n",
    "print(f\"  - Stage 4: Lazy Execution Engine (8 weeks)\")\n",
    "print(f\"  - Stage 5: API Completeness & Advanced Features (6 weeks)\")\n",
    "print(f\"  - Stage 6: Validation & Documentation (4 weeks)\")"
   ]
  }
 ],
 "metadata": {
  "kernelspec": {
   "display_name": "Python 3 (ipykernel)",
   "language": "python",
   "name": "python3"
  }
 },
 "nbformat": 4,
 "nbformat_minor": 5
}